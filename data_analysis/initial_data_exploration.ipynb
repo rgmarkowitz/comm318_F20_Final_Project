{
 "cells": [
  {
   "cell_type": "markdown",
   "metadata": {},
   "source": [
    "# Initial Data Explorations"
   ]
  },
  {
   "cell_type": "code",
   "execution_count": 1,
   "metadata": {},
   "outputs": [],
   "source": [
    "import pandas as pd\n",
    "import warnings\n",
    "warnings.filterwarnings('ignore')"
   ]
  },
  {
   "cell_type": "code",
   "execution_count": null,
   "metadata": {},
   "outputs": [],
   "source": [
    "pd.to_df"
   ]
  },
  {
   "cell_type": "code",
   "execution_count": 3,
   "metadata": {},
   "outputs": [],
   "source": [
    "nfl_df = pd.read_csv('../data/nfl_elo.csv')"
   ]
  },
  {
   "cell_type": "code",
   "execution_count": 4,
   "metadata": {},
   "outputs": [
    {
     "data": {
      "text/plain": [
       "(16810, 30)"
      ]
     },
     "execution_count": 4,
     "metadata": {},
     "output_type": "execute_result"
    }
   ],
   "source": [
    "nfl_df.shape"
   ]
  },
  {
   "cell_type": "code",
   "execution_count": 5,
   "metadata": {},
   "outputs": [
    {
     "data": {
      "text/plain": [
       "Index(['date', 'season', 'neutral', 'playoff', 'team1', 'team2', 'elo1_pre',\n",
       "       'elo2_pre', 'elo_prob1', 'elo_prob2', 'elo1_post', 'elo2_post',\n",
       "       'qbelo1_pre', 'qbelo2_pre', 'qb1', 'qb2', 'qb1_value_pre',\n",
       "       'qb2_value_pre', 'qb1_adj', 'qb2_adj', 'qbelo_prob1', 'qbelo_prob2',\n",
       "       'qb1_game_value', 'qb2_game_value', 'qb1_value_post', 'qb2_value_post',\n",
       "       'qbelo1_post', 'qbelo2_post', 'score1', 'score2'],\n",
       "      dtype='object')"
      ]
     },
     "execution_count": 5,
     "metadata": {},
     "output_type": "execute_result"
    }
   ],
   "source": [
    "nfl_df.columns"
   ]
  },
  {
   "cell_type": "code",
   "execution_count": 6,
   "metadata": {},
   "outputs": [
    {
     "data": {
      "text/html": [
       "<div>\n",
       "<style scoped>\n",
       "    .dataframe tbody tr th:only-of-type {\n",
       "        vertical-align: middle;\n",
       "    }\n",
       "\n",
       "    .dataframe tbody tr th {\n",
       "        vertical-align: top;\n",
       "    }\n",
       "\n",
       "    .dataframe thead th {\n",
       "        text-align: right;\n",
       "    }\n",
       "</style>\n",
       "<table border=\"1\" class=\"dataframe\">\n",
       "  <thead>\n",
       "    <tr style=\"text-align: right;\">\n",
       "      <th></th>\n",
       "      <th>date</th>\n",
       "      <th>season</th>\n",
       "      <th>neutral</th>\n",
       "      <th>playoff</th>\n",
       "      <th>team1</th>\n",
       "      <th>team2</th>\n",
       "      <th>elo1_pre</th>\n",
       "      <th>elo2_pre</th>\n",
       "      <th>elo_prob1</th>\n",
       "      <th>elo_prob2</th>\n",
       "      <th>...</th>\n",
       "      <th>qbelo_prob1</th>\n",
       "      <th>qbelo_prob2</th>\n",
       "      <th>qb1_game_value</th>\n",
       "      <th>qb2_game_value</th>\n",
       "      <th>qb1_value_post</th>\n",
       "      <th>qb2_value_post</th>\n",
       "      <th>qbelo1_post</th>\n",
       "      <th>qbelo2_post</th>\n",
       "      <th>score1</th>\n",
       "      <th>score2</th>\n",
       "    </tr>\n",
       "  </thead>\n",
       "  <tbody>\n",
       "    <tr>\n",
       "      <th>9251</th>\n",
       "      <td>1992-09-06</td>\n",
       "      <td>1992</td>\n",
       "      <td>0</td>\n",
       "      <td>NaN</td>\n",
       "      <td>DEN</td>\n",
       "      <td>OAK</td>\n",
       "      <td>1573.954000</td>\n",
       "      <td>1522.002000</td>\n",
       "      <td>0.662226</td>\n",
       "      <td>0.337774</td>\n",
       "      <td>...</td>\n",
       "      <td>0.587635</td>\n",
       "      <td>0.412365</td>\n",
       "      <td>-78.780678</td>\n",
       "      <td>-103.155861</td>\n",
       "      <td>46.992491</td>\n",
       "      <td>29.833280</td>\n",
       "      <td>1563.079281</td>\n",
       "      <td>1532.669069</td>\n",
       "      <td>17.0</td>\n",
       "      <td>13.0</td>\n",
       "    </tr>\n",
       "    <tr>\n",
       "      <th>6961</th>\n",
       "      <td>1981-11-29</td>\n",
       "      <td>1981</td>\n",
       "      <td>0</td>\n",
       "      <td>NaN</td>\n",
       "      <td>SF</td>\n",
       "      <td>NYG</td>\n",
       "      <td>1563.058000</td>\n",
       "      <td>1460.779000</td>\n",
       "      <td>0.723709</td>\n",
       "      <td>0.276291</td>\n",
       "      <td>...</td>\n",
       "      <td>0.754282</td>\n",
       "      <td>0.245718</td>\n",
       "      <td>232.827999</td>\n",
       "      <td>-148.550371</td>\n",
       "      <td>123.315501</td>\n",
       "      <td>-8.840231</td>\n",
       "      <td>1566.906896</td>\n",
       "      <td>1454.654141</td>\n",
       "      <td>17.0</td>\n",
       "      <td>10.0</td>\n",
       "    </tr>\n",
       "    <tr>\n",
       "      <th>16022</th>\n",
       "      <td>2018-09-10</td>\n",
       "      <td>2018</td>\n",
       "      <td>0</td>\n",
       "      <td>NaN</td>\n",
       "      <td>OAK</td>\n",
       "      <td>LAR</td>\n",
       "      <td>1464.895341</td>\n",
       "      <td>1529.948656</td>\n",
       "      <td>0.499923</td>\n",
       "      <td>0.500077</td>\n",
       "      <td>...</td>\n",
       "      <td>0.449189</td>\n",
       "      <td>0.550811</td>\n",
       "      <td>103.877117</td>\n",
       "      <td>166.277522</td>\n",
       "      <td>146.691443</td>\n",
       "      <td>154.783594</td>\n",
       "      <td>1444.600167</td>\n",
       "      <td>1586.947296</td>\n",
       "      <td>13.0</td>\n",
       "      <td>33.0</td>\n",
       "    </tr>\n",
       "    <tr>\n",
       "      <th>11414</th>\n",
       "      <td>2000-12-03</td>\n",
       "      <td>2000</td>\n",
       "      <td>0</td>\n",
       "      <td>NaN</td>\n",
       "      <td>NO</td>\n",
       "      <td>DEN</td>\n",
       "      <td>1516.283000</td>\n",
       "      <td>1588.871000</td>\n",
       "      <td>0.489082</td>\n",
       "      <td>0.510918</td>\n",
       "      <td>...</td>\n",
       "      <td>0.544262</td>\n",
       "      <td>0.455738</td>\n",
       "      <td>241.262545</td>\n",
       "      <td>166.535687</td>\n",
       "      <td>76.929426</td>\n",
       "      <td>82.185245</td>\n",
       "      <td>1497.840517</td>\n",
       "      <td>1627.565106</td>\n",
       "      <td>23.0</td>\n",
       "      <td>38.0</td>\n",
       "    </tr>\n",
       "    <tr>\n",
       "      <th>10540</th>\n",
       "      <td>1997-10-12</td>\n",
       "      <td>1997</td>\n",
       "      <td>0</td>\n",
       "      <td>NaN</td>\n",
       "      <td>CHI</td>\n",
       "      <td>GB</td>\n",
       "      <td>1384.343000</td>\n",
       "      <td>1669.588000</td>\n",
       "      <td>0.219629</td>\n",
       "      <td>0.780371</td>\n",
       "      <td>...</td>\n",
       "      <td>0.245595</td>\n",
       "      <td>0.754405</td>\n",
       "      <td>189.900324</td>\n",
       "      <td>149.912566</td>\n",
       "      <td>80.211634</td>\n",
       "      <td>145.218786</td>\n",
       "      <td>1387.976976</td>\n",
       "      <td>1655.557015</td>\n",
       "      <td>23.0</td>\n",
       "      <td>24.0</td>\n",
       "    </tr>\n",
       "    <tr>\n",
       "      <th>14890</th>\n",
       "      <td>2013-12-15</td>\n",
       "      <td>2013</td>\n",
       "      <td>0</td>\n",
       "      <td>NaN</td>\n",
       "      <td>IND</td>\n",
       "      <td>HOU</td>\n",
       "      <td>1511.433000</td>\n",
       "      <td>1358.029000</td>\n",
       "      <td>0.778550</td>\n",
       "      <td>0.221450</td>\n",
       "      <td>...</td>\n",
       "      <td>0.826155</td>\n",
       "      <td>0.173845</td>\n",
       "      <td>155.954760</td>\n",
       "      <td>-142.514243</td>\n",
       "      <td>163.236593</td>\n",
       "      <td>33.327614</td>\n",
       "      <td>1512.599021</td>\n",
       "      <td>1374.225561</td>\n",
       "      <td>25.0</td>\n",
       "      <td>3.0</td>\n",
       "    </tr>\n",
       "    <tr>\n",
       "      <th>15115</th>\n",
       "      <td>2014-11-27</td>\n",
       "      <td>2014</td>\n",
       "      <td>0</td>\n",
       "      <td>NaN</td>\n",
       "      <td>DET</td>\n",
       "      <td>CHI</td>\n",
       "      <td>1533.945000</td>\n",
       "      <td>1471.337000</td>\n",
       "      <td>0.675807</td>\n",
       "      <td>0.324193</td>\n",
       "      <td>...</td>\n",
       "      <td>0.638749</td>\n",
       "      <td>0.361251</td>\n",
       "      <td>345.712485</td>\n",
       "      <td>110.333683</td>\n",
       "      <td>125.960519</td>\n",
       "      <td>147.476901</td>\n",
       "      <td>1572.156510</td>\n",
       "      <td>1467.841869</td>\n",
       "      <td>34.0</td>\n",
       "      <td>17.0</td>\n",
       "    </tr>\n",
       "    <tr>\n",
       "      <th>7951</th>\n",
       "      <td>1986-10-19</td>\n",
       "      <td>1986</td>\n",
       "      <td>0</td>\n",
       "      <td>NaN</td>\n",
       "      <td>ATL</td>\n",
       "      <td>SF</td>\n",
       "      <td>1495.221000</td>\n",
       "      <td>1632.572000</td>\n",
       "      <td>0.397358</td>\n",
       "      <td>0.602642</td>\n",
       "      <td>...</td>\n",
       "      <td>0.447967</td>\n",
       "      <td>0.552033</td>\n",
       "      <td>-101.479948</td>\n",
       "      <td>-87.582246</td>\n",
       "      <td>19.173622</td>\n",
       "      <td>78.714563</td>\n",
       "      <td>1500.341377</td>\n",
       "      <td>1646.415032</td>\n",
       "      <td>10.0</td>\n",
       "      <td>10.0</td>\n",
       "    </tr>\n",
       "    <tr>\n",
       "      <th>15164</th>\n",
       "      <td>2014-12-20</td>\n",
       "      <td>2014</td>\n",
       "      <td>0</td>\n",
       "      <td>NaN</td>\n",
       "      <td>WSH</td>\n",
       "      <td>PHI</td>\n",
       "      <td>1293.031000</td>\n",
       "      <td>1565.012000</td>\n",
       "      <td>0.232995</td>\n",
       "      <td>0.767005</td>\n",
       "      <td>...</td>\n",
       "      <td>0.276012</td>\n",
       "      <td>0.723988</td>\n",
       "      <td>68.452198</td>\n",
       "      <td>275.352042</td>\n",
       "      <td>87.275473</td>\n",
       "      <td>92.042758</td>\n",
       "      <td>1351.501167</td>\n",
       "      <td>1587.164630</td>\n",
       "      <td>27.0</td>\n",
       "      <td>24.0</td>\n",
       "    </tr>\n",
       "    <tr>\n",
       "      <th>15841</th>\n",
       "      <td>2017-10-22</td>\n",
       "      <td>2017</td>\n",
       "      <td>0</td>\n",
       "      <td>NaN</td>\n",
       "      <td>PIT</td>\n",
       "      <td>CIN</td>\n",
       "      <td>1591.370085</td>\n",
       "      <td>1490.562339</td>\n",
       "      <td>0.722012</td>\n",
       "      <td>0.277988</td>\n",
       "      <td>...</td>\n",
       "      <td>0.658058</td>\n",
       "      <td>0.341942</td>\n",
       "      <td>233.698420</td>\n",
       "      <td>-5.585778</td>\n",
       "      <td>158.846926</td>\n",
       "      <td>134.363548</td>\n",
       "      <td>1608.532226</td>\n",
       "      <td>1479.593625</td>\n",
       "      <td>29.0</td>\n",
       "      <td>14.0</td>\n",
       "    </tr>\n",
       "  </tbody>\n",
       "</table>\n",
       "<p>10 rows × 30 columns</p>\n",
       "</div>"
      ],
      "text/plain": [
       "             date  season  neutral playoff team1 team2     elo1_pre  \\\n",
       "9251   1992-09-06    1992        0     NaN   DEN   OAK  1573.954000   \n",
       "6961   1981-11-29    1981        0     NaN    SF   NYG  1563.058000   \n",
       "16022  2018-09-10    2018        0     NaN   OAK   LAR  1464.895341   \n",
       "11414  2000-12-03    2000        0     NaN    NO   DEN  1516.283000   \n",
       "10540  1997-10-12    1997        0     NaN   CHI    GB  1384.343000   \n",
       "14890  2013-12-15    2013        0     NaN   IND   HOU  1511.433000   \n",
       "15115  2014-11-27    2014        0     NaN   DET   CHI  1533.945000   \n",
       "7951   1986-10-19    1986        0     NaN   ATL    SF  1495.221000   \n",
       "15164  2014-12-20    2014        0     NaN   WSH   PHI  1293.031000   \n",
       "15841  2017-10-22    2017        0     NaN   PIT   CIN  1591.370085   \n",
       "\n",
       "          elo2_pre  elo_prob1  elo_prob2  ...  qbelo_prob1  qbelo_prob2  \\\n",
       "9251   1522.002000   0.662226   0.337774  ...     0.587635     0.412365   \n",
       "6961   1460.779000   0.723709   0.276291  ...     0.754282     0.245718   \n",
       "16022  1529.948656   0.499923   0.500077  ...     0.449189     0.550811   \n",
       "11414  1588.871000   0.489082   0.510918  ...     0.544262     0.455738   \n",
       "10540  1669.588000   0.219629   0.780371  ...     0.245595     0.754405   \n",
       "14890  1358.029000   0.778550   0.221450  ...     0.826155     0.173845   \n",
       "15115  1471.337000   0.675807   0.324193  ...     0.638749     0.361251   \n",
       "7951   1632.572000   0.397358   0.602642  ...     0.447967     0.552033   \n",
       "15164  1565.012000   0.232995   0.767005  ...     0.276012     0.723988   \n",
       "15841  1490.562339   0.722012   0.277988  ...     0.658058     0.341942   \n",
       "\n",
       "       qb1_game_value  qb2_game_value qb1_value_post qb2_value_post  \\\n",
       "9251       -78.780678     -103.155861      46.992491      29.833280   \n",
       "6961       232.827999     -148.550371     123.315501      -8.840231   \n",
       "16022      103.877117      166.277522     146.691443     154.783594   \n",
       "11414      241.262545      166.535687      76.929426      82.185245   \n",
       "10540      189.900324      149.912566      80.211634     145.218786   \n",
       "14890      155.954760     -142.514243     163.236593      33.327614   \n",
       "15115      345.712485      110.333683     125.960519     147.476901   \n",
       "7951      -101.479948      -87.582246      19.173622      78.714563   \n",
       "15164       68.452198      275.352042      87.275473      92.042758   \n",
       "15841      233.698420       -5.585778     158.846926     134.363548   \n",
       "\n",
       "       qbelo1_post  qbelo2_post  score1  score2  \n",
       "9251   1563.079281  1532.669069    17.0    13.0  \n",
       "6961   1566.906896  1454.654141    17.0    10.0  \n",
       "16022  1444.600167  1586.947296    13.0    33.0  \n",
       "11414  1497.840517  1627.565106    23.0    38.0  \n",
       "10540  1387.976976  1655.557015    23.0    24.0  \n",
       "14890  1512.599021  1374.225561    25.0     3.0  \n",
       "15115  1572.156510  1467.841869    34.0    17.0  \n",
       "7951   1500.341377  1646.415032    10.0    10.0  \n",
       "15164  1351.501167  1587.164630    27.0    24.0  \n",
       "15841  1608.532226  1479.593625    29.0    14.0  \n",
       "\n",
       "[10 rows x 30 columns]"
      ]
     },
     "execution_count": 6,
     "metadata": {},
     "output_type": "execute_result"
    }
   ],
   "source": [
    "nfl_df.sample(10)"
   ]
  },
  {
   "cell_type": "markdown",
   "metadata": {},
   "source": [
    "###  Observations\n",
    "* Rows are each NFL game to occur from 1920\n",
    "* Columns include: date of  game, teams playing, Elo score pre and post game, QB Elo ranking (pre, during,  post) game, final game scores, and  game projections\n",
    "* Note: Team 1 refers to home team, Team 2 refers to away team\n"
   ]
  },
  {
   "cell_type": "markdown",
   "metadata": {},
   "source": [
    "# FB\n",
    "\n",
    "* What is an __ELO__ score? Don't assume your readers will know about football!"
   ]
  },
  {
   "cell_type": "code",
   "execution_count": 7,
   "metadata": {},
   "outputs": [],
   "source": [
    "cols_to_use = ['date', 'qb1', 'qbelo1_pre', 'qbelo1_post']\n",
    "nfl_df2 = nfl_df[cols_to_use]"
   ]
  },
  {
   "cell_type": "code",
   "execution_count": 8,
   "metadata": {},
   "outputs": [
    {
     "data": {
      "text/html": [
       "<div>\n",
       "<style scoped>\n",
       "    .dataframe tbody tr th:only-of-type {\n",
       "        vertical-align: middle;\n",
       "    }\n",
       "\n",
       "    .dataframe tbody tr th {\n",
       "        vertical-align: top;\n",
       "    }\n",
       "\n",
       "    .dataframe thead th {\n",
       "        text-align: right;\n",
       "    }\n",
       "</style>\n",
       "<table border=\"1\" class=\"dataframe\">\n",
       "  <thead>\n",
       "    <tr style=\"text-align: right;\">\n",
       "      <th></th>\n",
       "      <th>date</th>\n",
       "      <th>qb1</th>\n",
       "      <th>qbelo1_pre</th>\n",
       "      <th>qbelo1_post</th>\n",
       "    </tr>\n",
       "  </thead>\n",
       "  <tbody>\n",
       "    <tr>\n",
       "      <th>4303</th>\n",
       "      <td>1968-11-17</td>\n",
       "      <td>Pete Beathard</td>\n",
       "      <td>1469.983880</td>\n",
       "      <td>1489.544192</td>\n",
       "    </tr>\n",
       "    <tr>\n",
       "      <th>8336</th>\n",
       "      <td>1988-09-11</td>\n",
       "      <td>Tommy Kramer</td>\n",
       "      <td>1557.510331</td>\n",
       "      <td>1588.333072</td>\n",
       "    </tr>\n",
       "    <tr>\n",
       "      <th>2617</th>\n",
       "      <td>1956-10-06</td>\n",
       "      <td>Bobby Thomason</td>\n",
       "      <td>1487.639181</td>\n",
       "      <td>1498.981496</td>\n",
       "    </tr>\n",
       "    <tr>\n",
       "      <th>5719</th>\n",
       "      <td>1976-09-26</td>\n",
       "      <td>Bob Avellini</td>\n",
       "      <td>1461.357898</td>\n",
       "      <td>1428.044911</td>\n",
       "    </tr>\n",
       "    <tr>\n",
       "      <th>1447</th>\n",
       "      <td>1940-12-08</td>\n",
       "      <td>NaN</td>\n",
       "      <td>NaN</td>\n",
       "      <td>NaN</td>\n",
       "    </tr>\n",
       "    <tr>\n",
       "      <th>1254</th>\n",
       "      <td>1937-10-24</td>\n",
       "      <td>NaN</td>\n",
       "      <td>NaN</td>\n",
       "      <td>NaN</td>\n",
       "    </tr>\n",
       "    <tr>\n",
       "      <th>2897</th>\n",
       "      <td>1959-12-13</td>\n",
       "      <td>Norm Van Brocklin</td>\n",
       "      <td>1483.736652</td>\n",
       "      <td>1465.123111</td>\n",
       "    </tr>\n",
       "    <tr>\n",
       "      <th>12364</th>\n",
       "      <td>2004-10-24</td>\n",
       "      <td>Jeff Garcia</td>\n",
       "      <td>1470.115835</td>\n",
       "      <td>1462.267549</td>\n",
       "    </tr>\n",
       "    <tr>\n",
       "      <th>15981</th>\n",
       "      <td>2017-12-31</td>\n",
       "      <td>Tom Brady</td>\n",
       "      <td>1713.398448</td>\n",
       "      <td>1716.157321</td>\n",
       "    </tr>\n",
       "    <tr>\n",
       "      <th>3306</th>\n",
       "      <td>1962-11-22</td>\n",
       "      <td>Frank Tripucka</td>\n",
       "      <td>1378.403343</td>\n",
       "      <td>1369.519401</td>\n",
       "    </tr>\n",
       "  </tbody>\n",
       "</table>\n",
       "</div>"
      ],
      "text/plain": [
       "             date                qb1   qbelo1_pre  qbelo1_post\n",
       "4303   1968-11-17      Pete Beathard  1469.983880  1489.544192\n",
       "8336   1988-09-11       Tommy Kramer  1557.510331  1588.333072\n",
       "2617   1956-10-06     Bobby Thomason  1487.639181  1498.981496\n",
       "5719   1976-09-26       Bob Avellini  1461.357898  1428.044911\n",
       "1447   1940-12-08                NaN          NaN          NaN\n",
       "1254   1937-10-24                NaN          NaN          NaN\n",
       "2897   1959-12-13  Norm Van Brocklin  1483.736652  1465.123111\n",
       "12364  2004-10-24        Jeff Garcia  1470.115835  1462.267549\n",
       "15981  2017-12-31          Tom Brady  1713.398448  1716.157321\n",
       "3306   1962-11-22     Frank Tripucka  1378.403343  1369.519401"
      ]
     },
     "execution_count": 8,
     "metadata": {},
     "output_type": "execute_result"
    }
   ],
   "source": [
    "nfl_df2.sample(10)"
   ]
  },
  {
   "cell_type": "code",
   "execution_count": 9,
   "metadata": {},
   "outputs": [],
   "source": [
    "brady_filter = nfl_df2['qb1'] == 'Tom Brady'"
   ]
  },
  {
   "cell_type": "code",
   "execution_count": 10,
   "metadata": {},
   "outputs": [],
   "source": [
    "brady_df = nfl_df2[brady_filter]"
   ]
  },
  {
   "cell_type": "code",
   "execution_count": 11,
   "metadata": {},
   "outputs": [
    {
     "data": {
      "text/html": [
       "<div>\n",
       "<style scoped>\n",
       "    .dataframe tbody tr th:only-of-type {\n",
       "        vertical-align: middle;\n",
       "    }\n",
       "\n",
       "    .dataframe tbody tr th {\n",
       "        vertical-align: top;\n",
       "    }\n",
       "\n",
       "    .dataframe thead th {\n",
       "        text-align: right;\n",
       "    }\n",
       "</style>\n",
       "<table border=\"1\" class=\"dataframe\">\n",
       "  <thead>\n",
       "    <tr style=\"text-align: right;\">\n",
       "      <th></th>\n",
       "      <th>date</th>\n",
       "      <th>qb1</th>\n",
       "      <th>qbelo1_pre</th>\n",
       "      <th>qbelo1_post</th>\n",
       "    </tr>\n",
       "  </thead>\n",
       "  <tbody>\n",
       "    <tr>\n",
       "      <th>16352</th>\n",
       "      <td>2019-10-10</td>\n",
       "      <td>Tom Brady</td>\n",
       "      <td>1693.952988</td>\n",
       "      <td>1699.363758</td>\n",
       "    </tr>\n",
       "    <tr>\n",
       "      <th>14062</th>\n",
       "      <td>2010-12-06</td>\n",
       "      <td>Tom Brady</td>\n",
       "      <td>1643.642886</td>\n",
       "      <td>1673.310507</td>\n",
       "    </tr>\n",
       "    <tr>\n",
       "      <th>15001</th>\n",
       "      <td>2014-10-05</td>\n",
       "      <td>Tom Brady</td>\n",
       "      <td>1570.033970</td>\n",
       "      <td>1604.693047</td>\n",
       "    </tr>\n",
       "    <tr>\n",
       "      <th>16237</th>\n",
       "      <td>2018-12-23</td>\n",
       "      <td>Tom Brady</td>\n",
       "      <td>1623.916096</td>\n",
       "      <td>1632.126600</td>\n",
       "    </tr>\n",
       "    <tr>\n",
       "      <th>16287</th>\n",
       "      <td>2019-09-08</td>\n",
       "      <td>Tom Brady</td>\n",
       "      <td>1635.077314</td>\n",
       "      <td>1656.062865</td>\n",
       "    </tr>\n",
       "    <tr>\n",
       "      <th>16391</th>\n",
       "      <td>2019-10-27</td>\n",
       "      <td>Tom Brady</td>\n",
       "      <td>1715.313863</td>\n",
       "      <td>1722.108048</td>\n",
       "    </tr>\n",
       "    <tr>\n",
       "      <th>11615</th>\n",
       "      <td>2001-11-18</td>\n",
       "      <td>Tom Brady</td>\n",
       "      <td>1539.466311</td>\n",
       "      <td>1525.029419</td>\n",
       "    </tr>\n",
       "    <tr>\n",
       "      <th>11778</th>\n",
       "      <td>2002-09-22</td>\n",
       "      <td>Tom Brady</td>\n",
       "      <td>1603.970230</td>\n",
       "      <td>1609.177058</td>\n",
       "    </tr>\n",
       "    <tr>\n",
       "      <th>15790</th>\n",
       "      <td>2017-10-01</td>\n",
       "      <td>Tom Brady</td>\n",
       "      <td>1653.628513</td>\n",
       "      <td>1628.977696</td>\n",
       "    </tr>\n",
       "    <tr>\n",
       "      <th>14615</th>\n",
       "      <td>2012-12-16</td>\n",
       "      <td>Tom Brady</td>\n",
       "      <td>1748.056148</td>\n",
       "      <td>1715.271208</td>\n",
       "    </tr>\n",
       "  </tbody>\n",
       "</table>\n",
       "</div>"
      ],
      "text/plain": [
       "             date        qb1   qbelo1_pre  qbelo1_post\n",
       "16352  2019-10-10  Tom Brady  1693.952988  1699.363758\n",
       "14062  2010-12-06  Tom Brady  1643.642886  1673.310507\n",
       "15001  2014-10-05  Tom Brady  1570.033970  1604.693047\n",
       "16237  2018-12-23  Tom Brady  1623.916096  1632.126600\n",
       "16287  2019-09-08  Tom Brady  1635.077314  1656.062865\n",
       "16391  2019-10-27  Tom Brady  1715.313863  1722.108048\n",
       "11615  2001-11-18  Tom Brady  1539.466311  1525.029419\n",
       "11778  2002-09-22  Tom Brady  1603.970230  1609.177058\n",
       "15790  2017-10-01  Tom Brady  1653.628513  1628.977696\n",
       "14615  2012-12-16  Tom Brady  1748.056148  1715.271208"
      ]
     },
     "execution_count": 11,
     "metadata": {},
     "output_type": "execute_result"
    }
   ],
   "source": [
    "brady_df.sample(10)"
   ]
  },
  {
   "cell_type": "code",
   "execution_count": 12,
   "metadata": {},
   "outputs": [],
   "source": [
    "brady_plot = brady_df.hist()"
   ]
  },
  {
   "cell_type": "code",
   "execution_count": 13,
   "metadata": {},
   "outputs": [
    {
     "data": {
      "text/plain": [
       "<matplotlib.axes._subplots.AxesSubplot at 0x7fb014fcc710>"
      ]
     },
     "execution_count": 13,
     "metadata": {},
     "output_type": "execute_result"
    },
    {
     "data": {
      "image/png": "[encoded data removed]",
      "text/plain": [
       "<Figure size 432x288 with 1 Axes>"
      ]
     },
     "metadata": {
      "needs_background": "light"
     },
     "output_type": "display_data"
    }
   ],
   "source": [
    "brady_plot = brady_df.plot(xlabel=\"Game Number\", ylabel = \"Elo Ranking\", title=\"Brady's Home Game Elo Rankings Over Time\")\n",
    "brady_plot"
   ]
  },
  {
   "cell_type": "markdown",
   "metadata": {},
   "source": [
    "## After some graphing\n",
    "* I am wonderong if there is a difference between home and away games\n",
    "* If the difference between before  and after games is substantial information (which is more accurate)\n",
    "* How does Brady compare to other QB's at the time"
   ]
  },
  {
   "cell_type": "markdown",
   "metadata": {},
   "source": [
    "# FB\n",
    "\n",
    "* Good start here and it looks like these data are the ones you need for your core question.\n",
    "\n",
    "* As mentioned before you'll want do some pretty exhaustive analysis of what you have here and then establish some trends and patterns. Then as you develop your story think about what additional data might add some interesting extra dimensions to your data story.\n",
    "\n",
    "* For a date organized data frame it is work setting the index as a `DateTimeIndex`:"
   ]
  },
  {
   "cell_type": "code",
   "execution_count": 32,
   "metadata": {},
   "outputs": [],
   "source": [
    "brady_df['date_dt']=pd.to_datetime(brady_df['date'])\n",
    "brady_df=brady_df.set_index('date_dt')"
   ]
  },
  {
   "cell_type": "code",
   "execution_count": 33,
   "metadata": {},
   "outputs": [
    {
     "data": {
      "text/plain": [
       "<matplotlib.axes._subplots.AxesSubplot at 0x7fb00c4b9c50>"
      ]
     },
     "execution_count": 33,
     "metadata": {},
     "output_type": "execute_result"
    },
    {
     "data": {
      "image/png": "[encoded data removed]",
      "text/plain": [
       "<Figure size 432x288 with 1 Axes>"
      ]
     },
     "metadata": {
      "needs_background": "light"
     },
     "output_type": "display_data"
    }
   ],
   "source": [
    "brady_plot = brady_df.plot(xlabel=\"Game Number\", ylabel = \"Elo Ranking\", title=\"Brady's Home Game Elo Rankings Over Time\")\n",
    "brady_plot"
   ]
  },
  {
   "cell_type": "markdown",
   "metadata": {},
   "source": [
    "* This then allows you to do resampling by date features, e.g. number of days, months, years\n",
    "\n",
    "* For example to look at by 5 year periods taking a mean"
   ]
  },
  {
   "cell_type": "code",
   "execution_count": 34,
   "metadata": {},
   "outputs": [
    {
     "data": {
      "text/html": [
       "<div>\n",
       "<style scoped>\n",
       "    .dataframe tbody tr th:only-of-type {\n",
       "        vertical-align: middle;\n",
       "    }\n",
       "\n",
       "    .dataframe tbody tr th {\n",
       "        vertical-align: top;\n",
       "    }\n",
       "\n",
       "    .dataframe thead th {\n",
       "        text-align: right;\n",
       "    }\n",
       "</style>\n",
       "<table border=\"1\" class=\"dataframe\">\n",
       "  <thead>\n",
       "    <tr style=\"text-align: right;\">\n",
       "      <th></th>\n",
       "      <th>qbelo1_pre</th>\n",
       "      <th>qbelo1_post</th>\n",
       "    </tr>\n",
       "    <tr>\n",
       "      <th>date_dt</th>\n",
       "      <th></th>\n",
       "      <th></th>\n",
       "    </tr>\n",
       "  </thead>\n",
       "  <tbody>\n",
       "    <tr>\n",
       "      <th>2001-12-31</th>\n",
       "      <td>1511.711242</td>\n",
       "      <td>1530.347388</td>\n",
       "    </tr>\n",
       "    <tr>\n",
       "      <th>2006-12-31</th>\n",
       "      <td>1628.053069</td>\n",
       "      <td>1631.663529</td>\n",
       "    </tr>\n",
       "    <tr>\n",
       "      <th>2011-12-31</th>\n",
       "      <td>1676.223589</td>\n",
       "      <td>1681.814101</td>\n",
       "    </tr>\n",
       "    <tr>\n",
       "      <th>2016-12-31</th>\n",
       "      <td>1672.445483</td>\n",
       "      <td>1677.544447</td>\n",
       "    </tr>\n",
       "    <tr>\n",
       "      <th>2021-12-31</th>\n",
       "      <td>1658.725924</td>\n",
       "      <td>1661.841439</td>\n",
       "    </tr>\n",
       "  </tbody>\n",
       "</table>\n",
       "</div>"
      ],
      "text/plain": [
       "             qbelo1_pre  qbelo1_post\n",
       "date_dt                             \n",
       "2001-12-31  1511.711242  1530.347388\n",
       "2006-12-31  1628.053069  1631.663529\n",
       "2011-12-31  1676.223589  1681.814101\n",
       "2016-12-31  1672.445483  1677.544447\n",
       "2021-12-31  1658.725924  1661.841439"
      ]
     },
     "execution_count": 34,
     "metadata": {},
     "output_type": "execute_result"
    }
   ],
   "source": [
    "brady_df.resample('5Y').mean()"
   ]
  },
  {
   "cell_type": "code",
   "execution_count": 35,
   "metadata": {},
   "outputs": [
    {
     "data": {
      "text/plain": [
       "<matplotlib.axes._subplots.AxesSubplot at 0x7fb014f1b518>"
      ]
     },
     "execution_count": 35,
     "metadata": {},
     "output_type": "execute_result"
    },
    {
     "data": {
      "image/png": "[encoded data removed]",
      "text/plain": [
       "<Figure size 432x288 with 1 Axes>"
      ]
     },
     "metadata": {
      "needs_background": "light"
     },
     "output_type": "display_data"
    }
   ],
   "source": [
    "brady_df.resample('6M').mean().plot()"
   ]
  },
  {
   "cell_type": "markdown",
   "metadata": {},
   "source": [
    "* I guess there must be off-season periods that lead to the missing parts of the line here?"
   ]
  },
  {
   "cell_type": "code",
   "execution_count": null,
   "metadata": {},
   "outputs": [],
   "source": []
  }
 ],
 "metadata": {
  "kernelspec": {
   "display_name": "Python 3",
   "language": "python",
   "name": "python3"
  },
  "language_info": {
   "codemirror_mode": {
    "name": "ipython",
    "version": 3
   },
   "file_extension": ".py",
   "mimetype": "text/x-python",
   "name": "python",
   "nbconvert_exporter": "python",
   "pygments_lexer": "ipython3",
   "version": "3.7.3"
  }
 },
 "nbformat": 4,
 "nbformat_minor": 2
}
